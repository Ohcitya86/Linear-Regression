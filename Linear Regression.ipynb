{
  "nbformat": 4,
  "nbformat_minor": 0,
  "metadata": {
    "colab": {
      "provenance": []
    },
    "kernelspec": {
      "name": "python3",
      "display_name": "Python 3"
    },
    "language_info": {
      "name": "python"
    }
  },
  "cells": [
    {
      "cell_type": "code",
      "execution_count": 37,
      "metadata": {
        "id": "8XAntcwjGWW0"
      },
      "outputs": [],
      "source": [
        "import pandas as pd\n",
        "\n",
        "data = pd.read_csv('property_listing_data_in_Bangladesh.csv')\n",
        "data = data.drop(data.index[data[\"type\"].isin([\"Duplex\",\"Bulding Type\"])], axis=0)\n",
        "data.drop(['title','adress','type','purpose','flooPlan','url','lastUpdated'], axis=1, inplace=True)"
      ]
    },
    {
      "cell_type": "code",
      "source": [
        "def convert_to_numeric(value):\n",
        "    value = value.replace(',', '').strip()\n",
        "    if 'Thousand' in value:\n",
        "        value = value.replace('Thousand', '')\n",
        "        value = float(value) * 1000\n",
        "    elif 'Lakh' in value:\n",
        "        value = value.replace('Lakh', '')\n",
        "        value = float(value) * 100000\n",
        "    return value\n",
        "\n",
        "data['area'] = data['area'].astype(str).str.strip().replace(',', '', regex=True)\n",
        "data['beds'] = data['beds'].replace('Bed', '', regex=True).str.strip()\n",
        "data['bath'] = data['bath'].replace('Bath', '', regex=True).str.strip()\n",
        "data['price'] = data['price'].apply(convert_to_numeric).astype(float)\n"
      ],
      "metadata": {
        "id": "8uAZlr0AGYSo"
      },
      "execution_count": 38,
      "outputs": []
    },
    {
      "cell_type": "code",
      "source": [
        "data.head"
      ],
      "metadata": {
        "colab": {
          "base_uri": "https://localhost:8080/"
        },
        "id": "U9TamZuDV9nX",
        "outputId": "2fe0c01e-8fcc-4b79-da77-35cd2416f982"
      },
      "execution_count": 39,
      "outputs": [
        {
          "output_type": "execute_result",
          "data": {
            "text/plain": [
              "<bound method NDFrame.head of      beds bath       area     price\n",
              "0       3    4  2200 sqft   50000.0\n",
              "1       3    4  1400 sqft   30000.0\n",
              "2       3    4  1950 sqft   30000.0\n",
              "3       3    3  2000 sqft   35000.0\n",
              "4       3    4  1650 sqft   25000.0\n",
              "...   ...  ...        ...       ...\n",
              "7551    3    4  1888 sqft   50000.0\n",
              "7553    3    2   900 sqft   19000.0\n",
              "7554    2    2  1000 sqft   22000.0\n",
              "7555    3    4  3600 sqft  175000.0\n",
              "7556    4    4  2600 sqft   90000.0\n",
              "\n",
              "[7510 rows x 4 columns]>"
            ]
          },
          "metadata": {},
          "execution_count": 39
        }
      ]
    },
    {
      "cell_type": "code",
      "source": [
        "data['area'] = data['area'].str.replace(' sqft', '').astype(int)\n",
        "data['beds'] = data['beds'].astype(int)\n",
        "data['bath'] = data['bath'].astype(int)\n"
      ],
      "metadata": {
        "id": "oeobrAJgGbpE"
      },
      "execution_count": 40,
      "outputs": []
    },
    {
      "cell_type": "code",
      "source": [
        "data.head"
      ],
      "metadata": {
        "colab": {
          "base_uri": "https://localhost:8080/"
        },
        "id": "1T-fXy0jW_kH",
        "outputId": "0e4fcc62-f4e4-4e20-9d8f-b664dbb7047b"
      },
      "execution_count": 41,
      "outputs": [
        {
          "output_type": "execute_result",
          "data": {
            "text/plain": [
              "<bound method NDFrame.head of       beds  bath  area     price\n",
              "0        3     4  2200   50000.0\n",
              "1        3     4  1400   30000.0\n",
              "2        3     4  1950   30000.0\n",
              "3        3     3  2000   35000.0\n",
              "4        3     4  1650   25000.0\n",
              "...    ...   ...   ...       ...\n",
              "7551     3     4  1888   50000.0\n",
              "7553     3     2   900   19000.0\n",
              "7554     2     2  1000   22000.0\n",
              "7555     3     4  3600  175000.0\n",
              "7556     4     4  2600   90000.0\n",
              "\n",
              "[7510 rows x 4 columns]>"
            ]
          },
          "metadata": {},
          "execution_count": 41
        }
      ]
    },
    {
      "cell_type": "code",
      "source": [
        "X = data.loc[:, ['beds', 'bath', 'area']]\n",
        "y = data['price']\n"
      ],
      "metadata": {
        "id": "5tGP8z7oHj9N"
      },
      "execution_count": 42,
      "outputs": []
    },
    {
      "cell_type": "code",
      "source": [
        "def compute_cost(X, y, w, b):\n",
        "    m = X.shape[0]\n",
        "    predictions = np.dot(X, w) + b\n",
        "    squared_errors = np.square(predictions - y)\n",
        "    cost = np.sum(squared_errors) / (2 * m)\n",
        "    return cost"
      ],
      "metadata": {
        "id": "BLPlMm6HEjkP"
      },
      "execution_count": 43,
      "outputs": []
    },
    {
      "cell_type": "code",
      "source": [
        "def compute_gradient(X, y, w, b):\n",
        "    m = X.shape[0]\n",
        "    predictions = np.dot(X, w) + b\n",
        "    errors = predictions - y\n",
        "    dw = np.dot(errors, X) / m\n",
        "    db = np.sum(errors) / m\n",
        "    return dw, db\n",
        "    dw = np.zeros_like(w)"
      ],
      "metadata": {
        "id": "lt6dVeVmEqEA"
      },
      "execution_count": 44,
      "outputs": []
    },
    {
      "cell_type": "code",
      "source": [
        "from sklearn.model_selection import train_test_split\n",
        "X_train,X_test_val, y_train,y_test_val = train_test_split(X,y,test_size=0.2,random_state=47)\n",
        "X_val,X_test,y_val,y_test = train_test_split(X_test_val,y_test_val,test_size = 0.5,random_state = 47)\n",
        "\n"
      ],
      "metadata": {
        "id": "3fyiLTBSHkZ3"
      },
      "execution_count": 45,
      "outputs": []
    },
    {
      "cell_type": "code",
      "source": [
        "import numpy as np\n",
        "X_train.shape[1]\n",
        "X_train = X_train.values\n",
        "y_train = y_train.values\n",
        "X_test = X_test.values\n",
        "y_test = y_test.values\n",
        "X_val = X_val.values\n",
        "y_val = y_val.values"
      ],
      "metadata": {
        "id": "aotJhbUwRqqW"
      },
      "execution_count": 46,
      "outputs": []
    },
    {
      "cell_type": "code",
      "source": [
        "mean = np.mean(X_train,axis = 0)\n",
        "std = np.std(X_train,axis =0)\n",
        "X_train_normalized = (X_train-mean)/std\n",
        "X_test_normalized = (X_test-mean)/std\n",
        "X_val_normalized = (X_val-mean)/std\n",
        "mean = np.mean(y_train,axis = 0)\n",
        "std = np.std(y_train,axis =0)\n",
        "y_train_normalized = (y_train-mean)/std\n",
        "y_test_normalized = (y_test-mean)/std\n",
        "y_val_normalized = (y_val-mean)/std"
      ],
      "metadata": {
        "id": "J5RuXlqs-OUw"
      },
      "execution_count": 57,
      "outputs": []
    },
    {
      "cell_type": "code",
      "source": [
        "print(y_test[2])\n",
        "print(y_test_normalized[1])"
      ],
      "metadata": {
        "colab": {
          "base_uri": "https://localhost:8080/"
        },
        "id": "ONu1m2L9R6tS",
        "outputId": "bca95818-c95c-480e-ab75-88dd31bdfa31"
      },
      "execution_count": 58,
      "outputs": [
        {
          "output_type": "stream",
          "name": "stdout",
          "text": [
            "40000.0\n",
            "-0.18942137862978656\n"
          ]
        }
      ]
    },
    {
      "cell_type": "code",
      "source": [
        "def gradient_descent(X_train, y_train, X_val, y_val, w, b, compute_cost, learning_rate, epochs):\n",
        "    m = X_train.shape[0]  # Number of training examples\n",
        "    costs = []  # List to store the cost at each epoch\n",
        "\n",
        "    for epoch in range(epochs):\n",
        "        # Compute gradients using the compute_gradient function\n",
        "        dw, db = compute_gradient(X_train, y_train, w, b)\n",
        "\n",
        "        # Update parameters\n",
        "        w -= learning_rate * dw\n",
        "        b -= learning_rate * db\n",
        "\n",
        "        # Compute and store the cost for monitoring\n",
        "        cost_train = compute_cost(X_train, y_train, w, b)\n",
        "        cost_val = compute_cost(X_val, y_val, w, b)\n",
        "        costs.append(cost_train)\n",
        "\n",
        "        # Print the cost at each epoch (optional)\n",
        "        print(\"Epoch {}: Training Cost = {}, Validation Cost = {}\".format(epoch+1, cost_train, cost_val))\n",
        "\n",
        "    # Return the final costs, weights, and bias\n",
        "    return costs, w, b\n",
        "\n"
      ],
      "metadata": {
        "id": "Cr8TGaEUgNAU"
      },
      "execution_count": 50,
      "outputs": []
    },
    {
      "cell_type": "code",
      "source": [
        "import numpy as np\n",
        "\n",
        "# Initialize w with random values\n",
        "w = np.random.randn(X_train_normalized.shape[1])\n",
        "\n",
        "# Define the gradient descent function (gradient_descent) elsewhere in your code\n",
        "\n",
        "# Rest of the code\n",
        "b = 0\n",
        "epochs = 50\n",
        "theta = 0.03\n",
        "# Assuming compute_cost is a function that computes the cost\n",
        "costs, w_final, b_final = gradient_descent(X_train_normalized, y_train_normalized, X_val_normalized, y_val_normalized, w, b, compute_cost, theta, epochs)\n"
      ],
      "metadata": {
        "colab": {
          "base_uri": "https://localhost:8080/"
        },
        "id": "xxTupKYQGcGI",
        "outputId": "30e66fd6-bd0d-481a-8c74-ddca154b21e6"
      },
      "execution_count": 51,
      "outputs": [
        {
          "output_type": "stream",
          "name": "stdout",
          "text": [
            "Epoch 1: Training Cost = 1.4010461448854332, Validation Cost = 1.373767525698507\n",
            "Epoch 2: Training Cost = 1.2275828636828507, Validation Cost = 1.2232399036158552\n",
            "Epoch 3: Training Cost = 1.0791800999885535, Validation Cost = 1.0938823663630752\n",
            "Epoch 4: Training Cost = 0.9521925116337403, Validation Cost = 0.982659194639292\n",
            "Epoch 5: Training Cost = 0.8435053629040429, Validation Cost = 0.886973104242824\n",
            "Epoch 6: Training Cost = 0.7504572853048612, Validation Cost = 0.8046016974633382\n",
            "Epoch 7: Training Cost = 0.6707742819717187, Validation Cost = 0.7336431435276126\n",
            "Epoch 8: Training Cost = 0.6025133389967051, Validation Cost = 0.6724697463343899\n",
            "Epoch 9: Training Cost = 0.5440142451994924, Validation Cost = 0.6196882529009585\n",
            "Epoch 10: Training Cost = 0.49385842544589814, Validation Cost = 0.5741059227282355\n",
            "Epoch 11: Training Cost = 0.4508337665572434, Validation Cost = 0.5347015208060488\n",
            "Epoch 12: Training Cost = 0.4139045634736823, Validation Cost = 0.5006005187581558\n",
            "Epoch 13: Training Cost = 0.38218584032010816, Validation Cost = 0.47105389268532244\n",
            "Epoch 14: Training Cost = 0.35492140952349654, Validation Cost = 0.4454199951832453\n",
            "Epoch 15: Training Cost = 0.3314651248364977, Validation Cost = 0.42314905499362027\n",
            "Epoch 16: Training Cost = 0.31126486333290154, Validation Cost = 0.40376992267396056\n",
            "Epoch 17: Training Cost = 0.29384883912075443, Validation Cost = 0.3868787361534893\n",
            "Epoch 18: Training Cost = 0.2788139093469104, Validation Cost = 0.37212922745312876\n",
            "Epoch 19: Training Cost = 0.26581558247681936, Validation Cost = 0.3592244323617538\n",
            "Epoch 20: Training Cost = 0.2545594810507989, Validation Cost = 0.34790959948201106\n",
            "Epoch 21: Training Cost = 0.24479404718991626, Validation Cost = 0.337966124644621\n",
            "Epoch 22: Training Cost = 0.23630430994552906, Validation Cost = 0.329206361972852\n",
            "Epoch 23: Training Cost = 0.22890655992087588, Validation Cost = 0.3214691844848688\n",
            "Epoch 24: Training Cost = 0.22244379909398238, Validation Cost = 0.31461618558582327\n",
            "Epoch 25: Training Cost = 0.21678185299658329, Validation Cost = 0.3085284285810025\n",
            "Epoch 26: Training Cost = 0.21180604883056686, Validation Cost = 0.3031036648266278\n",
            "Epoch 27: Training Cost = 0.2074183771390127, Validation Cost = 0.29825395265976473\n",
            "Epoch 28: Training Cost = 0.20353506664131443, Validation Cost = 0.2939036190984223\n",
            "Epoch 29: Training Cost = 0.2000845120885695, Validation Cost = 0.28998751472096895\n",
            "Epoch 30: Training Cost = 0.19700550375050752, Validation Cost = 0.28644951932869406\n",
            "Epoch 31: Training Cost = 0.19424571462584428, Validation Cost = 0.28324126214461404\n",
            "Epoch 32: Training Cost = 0.1917604078596168, Validation Cost = 0.2803210255575029\n",
            "Epoch 33: Training Cost = 0.18951133231229458, Validation Cost = 0.27765280591252667\n",
            "Epoch 34: Training Cost = 0.18746577889171065, Validation Cost = 0.2752055086897957\n",
            "Epoch 35: Training Cost = 0.18559577424584306, Validation Cost = 0.27295225869447876\n",
            "Epoch 36: Training Cost = 0.18387739182108406, Validation Cost = 0.27086980868791677\n",
            "Epoch 37: Training Cost = 0.1822901632013383, Validation Cost = 0.2689380322876941\n",
            "Epoch 38: Training Cost = 0.18081657513029345, Validation Cost = 0.2671394890150717\n",
            "Epoch 39: Training Cost = 0.17944163974417116, Validation Cost = 0.2654590511211456\n",
            "Epoch 40: Training Cost = 0.17815252735790568, Validation Cost = 0.2638835833217878\n",
            "Epoch 41: Training Cost = 0.17693825269903357, Validation Cost = 0.2624016678527989\n",
            "Epoch 42: Training Cost = 0.17578940680908817, Validation Cost = 0.26100336835232685\n",
            "Epoch 43: Training Cost = 0.17469792796484798, Validation Cost = 0.2596800270144527\n",
            "Epoch 44: Training Cost = 0.17365690593948008, Validation Cost = 0.2584240902589761\n",
            "Epoch 45: Training Cost = 0.17266041475044472, Validation Cost = 0.2572289588475545\n",
            "Epoch 46: Training Cost = 0.17170336974749087, Validation Cost = 0.2560888589622963\n",
            "Epoch 47: Training Cost = 0.17078140549769866, Validation Cost = 0.2549987312640739\n",
            "Epoch 48: Training Cost = 0.1698907714402805, Validation Cost = 0.2539541353765148\n",
            "Epoch 49: Training Cost = 0.16902824272453074, Validation Cost = 0.25295116760834474\n",
            "Epoch 50: Training Cost = 0.16819104402084087, Validation Cost = 0.251986390040506\n"
          ]
        }
      ]
    },
    {
      "cell_type": "code",
      "source": [
        "print(w)"
      ],
      "metadata": {
        "colab": {
          "base_uri": "https://localhost:8080/"
        },
        "id": "wm_q7OXlpt9p",
        "outputId": "e33711af-02c0-4429-be7b-e880f42a2e1c"
      },
      "execution_count": 55,
      "outputs": [
        {
          "output_type": "stream",
          "name": "stdout",
          "text": [
            "[0.2119576  0.0840423  0.47531327]\n"
          ]
        }
      ]
    },
    {
      "cell_type": "code",
      "source": [
        "print(b)"
      ],
      "metadata": {
        "colab": {
          "base_uri": "https://localhost:8080/"
        },
        "id": "AxOzMkIvp2yT",
        "outputId": "e6aaa1ed-f9d4-4f2a-de26-3ac512066440"
      },
      "execution_count": 56,
      "outputs": [
        {
          "output_type": "stream",
          "name": "stdout",
          "text": [
            "0\n"
          ]
        }
      ]
    },
    {
      "cell_type": "code",
      "source": [
        "import matplotlib.pyplot as plt\n",
        "plt.figure()\n",
        "plt.scatter(x=list(range(0,50)),y=costs)\n",
        "plt.show()"
      ],
      "metadata": {
        "colab": {
          "base_uri": "https://localhost:8080/",
          "height": 430
        },
        "id": "Nfw2VFh7GfCf",
        "outputId": "720e2b25-d088-41da-871d-473510782cb3"
      },
      "execution_count": 52,
      "outputs": [
        {
          "output_type": "display_data",
          "data": {
            "text/plain": [
              "<Figure size 640x480 with 1 Axes>"
            ],
            "image/png": "[encoded data removed]"
          },
          "metadata": {}
        }
      ]
    }
  ]
}